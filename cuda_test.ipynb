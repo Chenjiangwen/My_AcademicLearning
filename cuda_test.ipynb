{
 "cells": [
  {
   "cell_type": "code",
   "execution_count": 1,
   "id": "b547e98f681b52d7",
   "metadata": {
    "ExecuteTime": {
     "end_time": "2023-10-12T05:24:21.169751900Z",
     "start_time": "2023-10-12T05:24:19.206850800Z"
    }
   },
   "outputs": [],
   "source": [
    "import torch"
   ]
  },
  {
   "cell_type": "markdown",
   "id": "3f94c6558212ba1a",
   "metadata": {
    "collapsed": false,
    "jupyter": {
     "outputs_hidden": false
    }
   },
   "source": [
    "### create tensor data"
   ]
  },
  {
   "cell_type": "code",
   "execution_count": 2,
   "id": "144f715b5a7c1e71",
   "metadata": {
    "ExecuteTime": {
     "end_time": "2023-10-12T05:24:21.183715300Z",
     "start_time": "2023-10-12T05:24:21.169751900Z"
    },
    "collapsed": false,
    "jupyter": {
     "outputs_hidden": false
    }
   },
   "outputs": [],
   "source": [
    "x = torch.randn(5, 3)\n",
    "y = torch.ones_like(x)\n",
    "# tensor = torch.ones(5, 3)"
   ]
  },
  {
   "cell_type": "code",
   "execution_count": 3,
   "id": "71d77247fdffc181",
   "metadata": {
    "ExecuteTime": {
     "end_time": "2023-10-12T05:24:21.221639400Z",
     "start_time": "2023-10-12T05:24:21.184740Z"
    },
    "collapsed": false,
    "jupyter": {
     "outputs_hidden": false
    }
   },
   "outputs": [
    {
     "data": {
      "text/plain": [
       "(tensor([[-0.3788,  0.2000, -0.0808],\n",
       "         [-1.3474, -0.0264, -0.5016],\n",
       "         [ 0.7819,  2.3440, -0.4746],\n",
       "         [-1.6287,  0.0484,  0.6700],\n",
       "         [ 1.6000, -0.5406,  0.2774]]),\n",
       " tensor([[1., 1., 1.],\n",
       "         [1., 1., 1.],\n",
       "         [1., 1., 1.],\n",
       "         [1., 1., 1.],\n",
       "         [1., 1., 1.]]))"
      ]
     },
     "execution_count": 3,
     "metadata": {},
     "output_type": "execute_result"
    }
   ],
   "source": [
    "x,y"
   ]
  },
  {
   "cell_type": "code",
   "execution_count": 4,
   "id": "74b1182bad5bd990",
   "metadata": {
    "ExecuteTime": {
     "end_time": "2023-10-12T05:24:21.221639400Z",
     "start_time": "2023-10-12T05:24:21.200671Z"
    },
    "collapsed": false,
    "jupyter": {
     "outputs_hidden": false
    }
   },
   "outputs": [
    {
     "data": {
      "text/plain": [
       "tensor([[ 0.6212,  1.2000,  0.9192],\n",
       "        [-0.3474,  0.9736,  0.4984],\n",
       "        [ 1.7819,  3.3440,  0.5254],\n",
       "        [-0.6287,  1.0484,  1.6700],\n",
       "        [ 2.6000,  0.4594,  1.2774]])"
      ]
     },
     "execution_count": 4,
     "metadata": {},
     "output_type": "execute_result"
    }
   ],
   "source": [
    "z1 = x + y\n",
    "z1"
   ]
  },
  {
   "cell_type": "markdown",
   "id": "80b1f1aafd824b03",
   "metadata": {
    "collapsed": false,
    "jupyter": {
     "outputs_hidden": false
    }
   },
   "source": [
    "### Moving to GPU"
   ]
  },
  {
   "cell_type": "code",
   "execution_count": 5,
   "id": "4677da0d56fd3de1",
   "metadata": {
    "ExecuteTime": {
     "end_time": "2023-10-12T05:24:21.392718700Z",
     "start_time": "2023-10-12T05:24:21.217650Z"
    },
    "collapsed": false,
    "jupyter": {
     "outputs_hidden": false
    }
   },
   "outputs": [
    {
     "data": {
      "text/plain": [
       "(tensor([[-0.3788,  0.2000, -0.0808],\n",
       "         [-1.3474, -0.0264, -0.5016],\n",
       "         [ 0.7819,  2.3440, -0.4746],\n",
       "         [-1.6287,  0.0484,  0.6700],\n",
       "         [ 1.6000, -0.5406,  0.2774]], device='cuda:0'),\n",
       " tensor([[1., 1., 1.],\n",
       "         [1., 1., 1.],\n",
       "         [1., 1., 1.],\n",
       "         [1., 1., 1.],\n",
       "         [1., 1., 1.]], device='cuda:0'),\n",
       " tensor([[ 0.6212,  1.2000,  0.9192],\n",
       "         [-0.3474,  0.9736,  0.4984],\n",
       "         [ 1.7819,  3.3440,  0.5254],\n",
       "         [-0.6287,  1.0484,  1.6700],\n",
       "         [ 2.6000,  0.4594,  1.2774]], device='cuda:0'))"
      ]
     },
     "execution_count": 5,
     "metadata": {},
     "output_type": "execute_result"
    }
   ],
   "source": [
    "x = x.cuda()\n",
    "y = y.cuda()\n",
    "z2 = x + y\n",
    "x,y,z2"
   ]
  },
  {
   "cell_type": "code",
   "execution_count": 6,
   "id": "dddbd879ced05816",
   "metadata": {
    "ExecuteTime": {
     "end_time": "2023-10-12T05:24:21.449584100Z",
     "start_time": "2023-10-12T05:24:21.389726400Z"
    },
    "collapsed": false,
    "jupyter": {
     "outputs_hidden": false
    }
   },
   "outputs": [],
   "source": [
    "### 数据必须在同一设备才能操作"
   ]
  },
  {
   "cell_type": "code",
   "execution_count": 7,
   "id": "2f74631cb59e646",
   "metadata": {
    "ExecuteTime": {
     "end_time": "2023-10-12T05:24:21.752777500Z",
     "start_time": "2023-10-12T05:24:21.405684100Z"
    },
    "collapsed": false,
    "jupyter": {
     "outputs_hidden": false
    }
   },
   "outputs": [
    {
     "name": "stdout",
     "output_type": "stream",
     "text": [
      "Expected all tensors to be on the same device, but found at least two devices, cuda:0 and cpu!\n"
     ]
    }
   ],
   "source": [
    "try: z1 + z2\n",
    "except Exception as e: print(e)"
   ]
  },
  {
   "cell_type": "markdown",
   "id": "f3a23fb7f22dc302",
   "metadata": {
    "collapsed": false,
    "jupyter": {
     "outputs_hidden": false
    }
   },
   "source": []
  },
  {
   "cell_type": "code",
   "execution_count": 8,
   "id": "4f0ae951fb12a976",
   "metadata": {
    "ExecuteTime": {
     "end_time": "2023-10-12T05:24:21.763750Z",
     "start_time": "2023-10-12T05:24:21.749784600Z"
    },
    "collapsed": false,
    "jupyter": {
     "outputs_hidden": false
    }
   },
   "outputs": [
    {
     "name": "stdout",
     "output_type": "stream",
     "text": [
      "tensor([[ 1.2424,  2.3999,  1.8385],\n",
      "        [-0.6948,  1.9472,  0.9968],\n",
      "        [ 3.5639,  6.6881,  1.0507],\n",
      "        [-1.2574,  2.0968,  3.3399],\n",
      "        [ 5.2001,  0.9188,  2.5548]])\n"
     ]
    }
   ],
   "source": [
    "z2 = z2.to(\"cpu\")\n",
    "print(z1 + z2)"
   ]
  },
  {
   "cell_type": "markdown",
   "id": "703b5dd5ecc3ec52",
   "metadata": {
    "collapsed": false,
    "jupyter": {
     "outputs_hidden": false
    }
   },
   "source": [
    "### Neural network"
   ]
  },
  {
   "cell_type": "code",
   "execution_count": 9,
   "id": "42d257763a14ff0f",
   "metadata": {
    "ExecuteTime": {
     "end_time": "2023-10-12T05:24:21.826879100Z",
     "start_time": "2023-10-12T05:24:21.769734900Z"
    },
    "collapsed": false,
    "jupyter": {
     "outputs_hidden": false
    }
   },
   "outputs": [],
   "source": [
    "import torch.nn as nn\n",
    "import torch.nn.functional as F\n",
    "\n",
    "# 定义一个简单的神经网络类\n",
    "class Net(nn.Module):\n",
    "    def __init__(self):\n",
    "        super(Net, self).__init__()\n",
    "        # super(Net, self).__init__()\n",
    "        # 定义每一层卷积神经网络，输入通道维度=1，输出通道维度=6，卷积核大小3*3\n",
    "        self.conv1 = nn.Conv2d(1, 6, 3)\n",
    "        # 定义第二层卷积神经网络，输入通道维度=6，输出通道维度=16，卷积核大小3*3\n",
    "        self.conv2 = nn.Conv2d(6, 16, 3)   #6×6×16\n",
    "        # 定义三层全连接网络\n",
    "        self.fc1 = nn.Linear(16 * 6 * 6, 120)\n",
    "        self.fc2 = nn.Linear(120, 84)\n",
    "        self.fc3 = nn.Linear(84, 10)\n",
    "\n",
    "    def forward(self, x):\n",
    "        # 在(2,2)的池化窗口下执行最大池化操作\n",
    "        x = F.max_pool2d(F.relu(self.conv1(x)), (2, 2))\n",
    "        x = F.max_pool2d(F.relu(self.conv2(x)), 2)\n",
    "        x = x.view(-1, self.num_flat_features(x)) #\n",
    "        x = F.relu(self.fc1(x))\n",
    "        x = F.relu(self.fc2(x))\n",
    "        x = self.fc3(x)\n",
    "        return x\n",
    "\n",
    "    def num_flat_features(self, x):\n",
    "        # 计算size,除了第0个 维度上的batch_size\n",
    "        size = x.size()[1:]\n",
    "        num_features = 1\n",
    "        for s in size:\n",
    "            num_features *= s\n",
    "        return num_features"
   ]
  },
  {
   "cell_type": "markdown",
   "id": "ec39c9e33db74e22",
   "metadata": {
    "collapsed": false,
    "jupyter": {
     "outputs_hidden": false
    }
   },
   "source": [
    "1. 第一层卷积：\n",
    "   - 输入大小：32×32\n",
    "   - 卷积核大小：3×3\n",
    "   - 输出通道维度：6\n",
    "   - 使用零填充（padding=0），步幅（stride=1）\n",
    "   - 计算公式：$output\\_size = \\frac{{input\\_size - kernel\\_size + 2 \\times padding}}{{stride}} + 1 = \\frac{{32 - 3 + 2 \\times 0}}{{1}} + 1 = 30$\n",
    "   - 输出大小：30×30\n",
    "\n",
    "2. 第一次最大池化：\n",
    "   - 输入大小：30×30\n",
    "   - 池化窗口大小：2×2\n",
    "   - 使用步幅（stride=2）\n",
    "   - 计算公式：$output\\_size = \\frac{{input\\_size}}{{stride}} = \\frac{{30}}{{2}} = 15$\n",
    "   - 输出大小：15×15\n",
    "\n",
    "3. 第二层卷积：\n",
    "   - 输入大小：15×15\n",
    "   - 卷积核大小：3×3\n",
    "   - 输出通道维度：16\n",
    "   - 使用零填充（padding=0），步幅（stride=1）\n",
    "   - 计算公式：$output\\_size = \\frac{{input\\_size - kernel\\_size + 2 \\times padding}}{{stride}} + 1 = \\frac{{15 - 3 + 2 \\times 0}}{{1}} + 1 = 13$\n",
    "   - 输出大小：13×13\n",
    "\n",
    "4. 第二次最大池化：\n",
    "   - 输入大小：13×13\n",
    "   - 池化窗口大小：2×2\n",
    "   - 使用步幅（stride=2）\n",
    "   - 计算公式：$output\\_size = \\frac{{input\\_size}}{{stride}} = \\frac{{13}}{{2}} = 6.5$（结果向下取整）\n",
    "   - 输出大小：6×6\n",
    "\n",
    "最后，在卷积和池化的过程中，图像的大小从32×32逐步减小到6×6。在这之后，将数据展平，并通过全连接层进行处理。"
   ]
  },
  {
   "cell_type": "markdown",
   "id": "5abf89fa3891189c",
   "metadata": {
    "collapsed": false,
    "jupyter": {
     "outputs_hidden": false
    }
   },
   "source": [
    "![16970320504401697032050389.png](https://fastly.jsdelivr.net/gh/Chenjiangwen/ImageHostingService@main/pic/16970320504401697032050389.png)"
   ]
  },
  {
   "cell_type": "code",
   "execution_count": null,
   "id": "5291ef14400ecebe",
   "metadata": {
    "ExecuteTime": {
     "start_time": "2023-10-12T05:24:21.779708600Z"
    },
    "collapsed": false,
    "is_executing": true,
    "jupyter": {
     "outputs_hidden": false
    }
   },
   "outputs": [],
   "source": [
    "import matplotlib.pyplot as plt\n",
    "\n",
    "img = plt.imread('img.png')\n",
    "\n",
    "fig = plt.figure(figsize=(20, 15))\n",
    "plt.imshow(img)\n",
    "plt.axis('on')\n",
    "plt.show()\n"
   ]
  },
  {
   "cell_type": "code",
   "execution_count": null,
   "id": "5638b85bd2c10485",
   "metadata": {
    "collapsed": false,
    "is_executing": true,
    "jupyter": {
     "outputs_hidden": false
    }
   },
   "outputs": [],
   "source": [
    "net = Net()\n",
    "net.to(\"cuda\")"
   ]
  },
  {
   "cell_type": "code",
   "execution_count": null,
   "id": "b1afb86513e94d0",
   "metadata": {
    "collapsed": false,
    "is_executing": true,
    "jupyter": {
     "outputs_hidden": false
    }
   },
   "outputs": [],
   "source": [
    "for name, param in net.named_parameters():\n",
    "    print('{: <30} {: <30} {: <20}'.format(name, str(param.shape), str(param.numel())))\n",
    "print(\"总参数量： {}\".format(sum(x.numel() for x in net.parameters())))"
   ]
  },
  {
   "cell_type": "markdown",
   "id": "950f008645ce6ae7",
   "metadata": {
    "collapsed": false,
    "jupyter": {
     "outputs_hidden": false
    }
   },
   "source": [
    "### 输入、输出"
   ]
  },
  {
   "cell_type": "code",
   "execution_count": null,
   "id": "ba6f421d38492a6b",
   "metadata": {
    "collapsed": false,
    "is_executing": true,
    "jupyter": {
     "outputs_hidden": false
    }
   },
   "outputs": [],
   "source": [
    "input = torch.randn(1, 1, 32, 32).to(\"cuda\")\n",
    "print('input', input.size(), input.type())\n",
    "out = net(input)\n",
    "print(out)\n"
   ]
  },
  {
   "cell_type": "markdown",
   "id": "29188644670e9bb8",
   "metadata": {
    "collapsed": false,
    "jupyter": {
     "outputs_hidden": false
    }
   },
   "source": [
    "### 损失"
   ]
  },
  {
   "cell_type": "code",
   "execution_count": null,
   "id": "d75883ea368d8225",
   "metadata": {
    "collapsed": false,
    "is_executing": true,
    "jupyter": {
     "outputs_hidden": false
    }
   },
   "outputs": [],
   "source": [
    "target = torch.randn(10).cuda()\n",
    "print(target.shape)\n",
    "target = target.view(1,-1)\n",
    "print(target.size())\n",
    "criterion = nn.MSELoss()\n",
    "loss = criterion(out, target)\n",
    "print(loss)"
   ]
  },
  {
   "cell_type": "markdown",
   "id": "9927b619cc411f03",
   "metadata": {
    "collapsed": false,
    "jupyter": {
     "outputs_hidden": false
    }
   },
   "source": [
    "### Input -> Conv1 -> ReLu -> MaxPool -> Conv2 -> ReLu -> MaxPool\n",
    "###      -> view -> FC_linear -> Relu -> FC_linear -> ReLu -> FC_linear\n",
    "###      -> MSELoss\n",
    "###      ->loss"
   ]
  },
  {
   "cell_type": "code",
   "execution_count": null,
   "id": "ec75cbcc5ab3b8e5",
   "metadata": {
    "collapsed": false,
    "is_executing": true,
    "jupyter": {
     "outputs_hidden": false
    }
   },
   "outputs": [],
   "source": [
    "net.zero_grad()  #梯度清零，否则不同批次数据之间的梯度会累加\n",
    "print(net.conv1.bias.grad)\n",
    "\n",
    "loss.backward()\n",
    "\n",
    "print(net.conv1.bias.grad)"
   ]
  },
  {
   "cell_type": "code",
   "execution_count": null,
   "id": "918f507ae21a16f5",
   "metadata": {
    "collapsed": false,
    "is_executing": true,
    "jupyter": {
     "outputs_hidden": false
    }
   },
   "outputs": [],
   "source": [
    "### 反向传播 loss.backward()"
   ]
  },
  {
   "cell_type": "code",
   "execution_count": null,
   "id": "4d679fa1e1480ccb",
   "metadata": {
    "collapsed": false,
    "is_executing": true,
    "jupyter": {
     "outputs_hidden": false
    }
   },
   "outputs": [],
   "source": [
    "# 跟踪loss反向传播\n",
    "print(loss.grad_fn)  #MSELoss\n",
    "print(loss.grad_fn.next_functions[0][0])  #linear\n",
    "print(loss.grad_fn.next_functions[0][0].next_functions[0][0])   #ReLu"
   ]
  },
  {
   "cell_type": "markdown",
   "id": "fc7697380c441ac6",
   "metadata": {
    "collapsed": false,
    "jupyter": {
     "outputs_hidden": false
    }
   },
   "source": [
    "### 优化器 更新网络参数"
   ]
  },
  {
   "cell_type": "code",
   "execution_count": null,
   "id": "710e10a8e49f934f",
   "metadata": {
    "collapsed": false,
    "is_executing": true,
    "jupyter": {
     "outputs_hidden": false
    }
   },
   "outputs": [],
   "source": [
    "import torch.optim as optim\n",
    "\n",
    "optimizer = optim.SGD(net.parameters(), lr=0.01)\n",
    "\n",
    "optimizer.zero_grad()\n",
    "\n",
    "output = net(input)\n",
    "loss = criterion(output, target)\n",
    "\n",
    "loss.backward()\n",
    "\n",
    "# 更新参数\n",
    "optimizer.step()\n",
    "\n",
    "print('总结：1.构建网络 2.定义损失函数 3.反向传播 4.更新参数\\n'\n",
    "      '循环训练直到满意loss，结束训练 -> 模型 -> do something')"
   ]
  },
  {
   "cell_type": "markdown",
   "id": "56587211eb09b41a",
   "metadata": {
    "collapsed": false,
    "jupyter": {
     "outputs_hidden": false
    }
   },
   "source": [
    "## cifar-10\n",
    "\n",
    "| 类别  | plane | car | bird | cat | deer | dog | frog | horse | ship | truck |\n",
    "| ----- | ----- | --- | ---- | --- | ---- | --- | ---- | ----- | ---- | ----- |\n",
    "| 准确率 | 69%   | 69% | 27%  | 31% | 42%  | 64% | 59%  | 65%   | 59%  | 62%   |"
   ]
  },
  {
   "cell_type": "markdown",
   "id": "8b142cc558091b90",
   "metadata": {
    "collapsed": false,
    "jupyter": {
     "outputs_hidden": false
    }
   },
   "source": [
    "https://cjwen-imageclassification-resnet18-cifar10.streamlit.app/"
   ]
  }
 ],
 "metadata": {
  "kernelspec": {
   "display_name": "Python 3 (ipykernel)",
   "language": "python",
   "name": "python3"
  },
  "language_info": {
   "codemirror_mode": {
    "name": "ipython",
    "version": 3
   },
   "file_extension": ".py",
   "mimetype": "text/x-python",
   "name": "python",
   "nbconvert_exporter": "python",
   "pygments_lexer": "ipython3",
   "version": "3.8.17"
  }
 },
 "nbformat": 4,
 "nbformat_minor": 5
}
