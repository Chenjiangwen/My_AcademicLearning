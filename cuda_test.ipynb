{
 "cells": [
  {
   "cell_type": "code",
   "execution_count": 19,
   "id": "b547e98f681b52d7",
   "metadata": {
    "ExecuteTime": {
     "end_time": "2023-10-12T05:39:58.813433100Z",
     "start_time": "2023-10-12T05:39:58.688309900Z"
    }
   },
   "outputs": [],
   "source": [
    "import torch"
   ]
  },
  {
   "cell_type": "markdown",
   "id": "3f94c6558212ba1a",
   "metadata": {
    "collapsed": false
   },
   "source": [
    "### create tensor data"
   ]
  },
  {
   "cell_type": "code",
   "execution_count": 20,
   "id": "144f715b5a7c1e71",
   "metadata": {
    "collapsed": false,
    "ExecuteTime": {
     "end_time": "2023-10-12T05:39:58.894019Z",
     "start_time": "2023-10-12T05:39:58.701284800Z"
    }
   },
   "outputs": [],
   "source": [
    "x = torch.randn(5, 3)\n",
    "y = torch.ones_like(x)\n",
    "# tensor = torch.ones(5, 3)"
   ]
  },
  {
   "cell_type": "code",
   "execution_count": 21,
   "id": "71d77247fdffc181",
   "metadata": {
    "collapsed": false,
    "ExecuteTime": {
     "end_time": "2023-10-12T05:39:58.897011Z",
     "start_time": "2023-10-12T05:39:58.719089300Z"
    }
   },
   "outputs": [
    {
     "data": {
      "text/plain": "(tensor([[-0.0292, -0.9111, -0.6166],\n         [ 0.8641,  0.9200,  0.2034],\n         [ 0.1092,  0.4867,  0.2730],\n         [ 0.8499,  0.2384, -0.2106],\n         [-1.0156, -0.4448, -2.1608]]),\n tensor([[1., 1., 1.],\n         [1., 1., 1.],\n         [1., 1., 1.],\n         [1., 1., 1.],\n         [1., 1., 1.]]))"
     },
     "execution_count": 21,
     "metadata": {},
     "output_type": "execute_result"
    }
   ],
   "source": [
    "x,y"
   ]
  },
  {
   "cell_type": "code",
   "execution_count": 22,
   "id": "74b1182bad5bd990",
   "metadata": {
    "collapsed": false,
    "ExecuteTime": {
     "end_time": "2023-10-12T05:39:58.912436700Z",
     "start_time": "2023-10-12T05:39:58.733075Z"
    }
   },
   "outputs": [
    {
     "data": {
      "text/plain": "tensor([[ 0.9708,  0.0889,  0.3834],\n        [ 1.8641,  1.9200,  1.2034],\n        [ 1.1092,  1.4867,  1.2730],\n        [ 1.8499,  1.2384,  0.7894],\n        [-0.0156,  0.5552, -1.1608]])"
     },
     "execution_count": 22,
     "metadata": {},
     "output_type": "execute_result"
    }
   ],
   "source": [
    "z1 = x + y\n",
    "z1"
   ]
  },
  {
   "cell_type": "markdown",
   "id": "80b1f1aafd824b03",
   "metadata": {
    "collapsed": false
   },
   "source": [
    "### Moving to GPU"
   ]
  },
  {
   "cell_type": "code",
   "execution_count": 23,
   "id": "4677da0d56fd3de1",
   "metadata": {
    "collapsed": false,
    "ExecuteTime": {
     "end_time": "2023-10-12T05:39:58.913434500Z",
     "start_time": "2023-10-12T05:39:58.750066900Z"
    }
   },
   "outputs": [
    {
     "data": {
      "text/plain": "(tensor([[-0.0292, -0.9111, -0.6166],\n         [ 0.8641,  0.9200,  0.2034],\n         [ 0.1092,  0.4867,  0.2730],\n         [ 0.8499,  0.2384, -0.2106],\n         [-1.0156, -0.4448, -2.1608]], device='cuda:0'),\n tensor([[1., 1., 1.],\n         [1., 1., 1.],\n         [1., 1., 1.],\n         [1., 1., 1.],\n         [1., 1., 1.]], device='cuda:0'),\n tensor([[ 0.9708,  0.0889,  0.3834],\n         [ 1.8641,  1.9200,  1.2034],\n         [ 1.1092,  1.4867,  1.2730],\n         [ 1.8499,  1.2384,  0.7894],\n         [-0.0156,  0.5552, -1.1608]], device='cuda:0'))"
     },
     "execution_count": 23,
     "metadata": {},
     "output_type": "execute_result"
    }
   ],
   "source": [
    "x = x.cuda()\n",
    "y = y.cuda()\n",
    "z2 = x + y\n",
    "x,y,z2"
   ]
  },
  {
   "cell_type": "code",
   "execution_count": 24,
   "id": "dddbd879ced05816",
   "metadata": {
    "collapsed": false,
    "ExecuteTime": {
     "end_time": "2023-10-12T05:39:58.914432100Z",
     "start_time": "2023-10-12T05:39:58.765029100Z"
    }
   },
   "outputs": [],
   "source": [
    "### 数据必须在同一设备才能操作"
   ]
  },
  {
   "cell_type": "code",
   "execution_count": 25,
   "id": "2f74631cb59e646",
   "metadata": {
    "collapsed": false,
    "ExecuteTime": {
     "end_time": "2023-10-12T05:39:58.918421Z",
     "start_time": "2023-10-12T05:39:58.779989200Z"
    }
   },
   "outputs": [
    {
     "name": "stdout",
     "output_type": "stream",
     "text": [
      "Expected all tensors to be on the same device, but found at least two devices, cuda:0 and cpu!\n"
     ]
    }
   ],
   "source": [
    "try: z1 + z2\n",
    "except Exception as e: print(e)"
   ]
  },
  {
   "cell_type": "markdown",
   "id": "f3a23fb7f22dc302",
   "metadata": {
    "collapsed": false
   },
   "source": []
  },
  {
   "cell_type": "code",
   "execution_count": 26,
   "id": "4f0ae951fb12a976",
   "metadata": {
    "collapsed": false,
    "ExecuteTime": {
     "end_time": "2023-10-12T05:39:58.927240800Z",
     "start_time": "2023-10-12T05:39:58.794483700Z"
    }
   },
   "outputs": [
    {
     "name": "stdout",
     "output_type": "stream",
     "text": [
      "tensor([[ 1.9415,  0.1778,  0.7668],\n",
      "        [ 3.7282,  3.8400,  2.4069],\n",
      "        [ 2.2183,  2.9734,  2.5460],\n",
      "        [ 3.6997,  2.4768,  1.5788],\n",
      "        [-0.0312,  1.1104, -2.3217]])\n"
     ]
    }
   ],
   "source": [
    "z2 = z2.to(\"cpu\")\n",
    "print(z1 + z2)"
   ]
  },
  {
   "cell_type": "markdown",
   "id": "703b5dd5ecc3ec52",
   "metadata": {
    "collapsed": false
   },
   "source": [
    "### Neural network"
   ]
  },
  {
   "cell_type": "code",
   "execution_count": 27,
   "id": "42d257763a14ff0f",
   "metadata": {
    "collapsed": false,
    "ExecuteTime": {
     "end_time": "2023-10-12T05:39:58.928237900Z",
     "start_time": "2023-10-12T05:39:58.814430300Z"
    }
   },
   "outputs": [],
   "source": [
    "import torch.nn as nn\n",
    "import torch.nn.functional as F\n",
    "\n",
    "# 定义一个简单的神经网络类\n",
    "class Net(nn.Module):\n",
    "    def __init__(self):\n",
    "        super(Net, self).__init__()\n",
    "        # super(Net, self).__init__()\n",
    "        # 定义每一层卷积神经网络，输入通道维度=1，输出通道维度=6，卷积核大小3*3\n",
    "        self.conv1 = nn.Conv2d(1, 6, 3)\n",
    "        # 定义第二层卷积神经网络，输入通道维度=6，输出通道维度=16，卷积核大小3*3\n",
    "        self.conv2 = nn.Conv2d(6, 16, 3)   #6×6×16\n",
    "        # 定义三层全连接网络\n",
    "        self.fc1 = nn.Linear(16 * 6 * 6, 120)\n",
    "        self.fc2 = nn.Linear(120, 84)\n",
    "        self.fc3 = nn.Linear(84, 10)\n",
    "\n",
    "    def forward(self, x):\n",
    "        # 在(2,2)的池化窗口下执行最大池化操作\n",
    "        x = F.max_pool2d(F.relu(self.conv1(x)), (2, 2))\n",
    "        x = F.max_pool2d(F.relu(self.conv2(x)), 2)\n",
    "        x = x.view(-1, self.num_flat_features(x)) #\n",
    "        x = F.relu(self.fc1(x))\n",
    "        x = F.relu(self.fc2(x))\n",
    "        x = self.fc3(x)\n",
    "        return x\n",
    "\n",
    "    def num_flat_features(self, x):\n",
    "        # 计算size,除了第0个 维度上的batch_size\n",
    "        size = x.size()[1:]\n",
    "        num_features = 1\n",
    "        for s in size:\n",
    "            num_features *= s\n",
    "        return num_features"
   ]
  },
  {
   "cell_type": "markdown",
   "id": "ec39c9e33db74e22",
   "metadata": {
    "collapsed": false
   },
   "source": [
    "1. 第一层卷积：\n",
    "   - 输入大小：32×32\n",
    "   - 卷积核大小：3×3\n",
    "   - 输出通道维度：6\n",
    "   - 使用零填充（padding=0），步幅（stride=1）\n",
    "   - 计算公式：$output\\_size = \\frac{{input\\_size - kernel\\_size + 2 \\times padding}}{{stride}} + 1 = \\frac{{32 - 3 + 2 \\times 0}}{{1}} + 1 = 30$\n",
    "   - 输出大小：30×30\n",
    "\n",
    "2. 第一次最大池化：\n",
    "   - 输入大小：30×30\n",
    "   - 池化窗口大小：2×2\n",
    "   - 使用步幅（stride=2）\n",
    "   - 计算公式：$output\\_size = \\frac{{input\\_size}}{{stride}} = \\frac{{30}}{{2}} = 15$\n",
    "   - 输出大小：15×15\n",
    "\n",
    "3. 第二层卷积：\n",
    "   - 输入大小：15×15\n",
    "   - 卷积核大小：3×3\n",
    "   - 输出通道维度：16\n",
    "   - 使用零填充（padding=0），步幅（stride=1）\n",
    "   - 计算公式：$output\\_size = \\frac{{input\\_size - kernel\\_size + 2 \\times padding}}{{stride}} + 1 = \\frac{{15 - 3 + 2 \\times 0}}{{1}} + 1 = 13$\n",
    "   - 输出大小：13×13\n",
    "\n",
    "4. 第二次最大池化：\n",
    "   - 输入大小：13×13\n",
    "   - 池化窗口大小：2×2\n",
    "   - 使用步幅（stride=2）\n",
    "   - 计算公式：$output\\_size = \\frac{{input\\_size}}{{stride}} = \\frac{{13}}{{2}} = 6.5$（结果向下取整）\n",
    "   - 输出大小：6×6\n",
    "\n",
    "最后，在卷积和池化的过程中，图像的大小从32×32逐步减小到6×6。在这之后，将数据展平，并通过全连接层进行处理。"
   ]
  },
  {
   "cell_type": "markdown",
   "id": "5abf89fa3891189c",
   "metadata": {
    "collapsed": false
   },
   "source": [
    "![16970320504401697032050389.png](https://fastly.jsdelivr.net/gh/Chenjiangwen/ImageHostingService@main/pic/16970320504401697032050389.png)"
   ]
  },
  {
   "cell_type": "code",
   "execution_count": 28,
   "id": "5291ef14400ecebe",
   "metadata": {
    "collapsed": false,
    "ExecuteTime": {
     "end_time": "2023-10-12T05:39:58.928237900Z",
     "start_time": "2023-10-12T05:39:58.827401200Z"
    }
   },
   "outputs": [],
   "source": [
    "# import matplotlib.pyplot as plt\n",
    "# \n",
    "# img = plt.imread('img.png')\n",
    "# \n",
    "# fig = plt.figure(figsize=(20, 15))\n",
    "# plt.imshow(img)\n",
    "# plt.axis('on')\n",
    "# plt.show()\n"
   ]
  },
  {
   "cell_type": "code",
   "execution_count": 29,
   "id": "5638b85bd2c10485",
   "metadata": {
    "collapsed": false,
    "ExecuteTime": {
     "end_time": "2023-10-12T05:39:58.929235800Z",
     "start_time": "2023-10-12T05:39:58.839364100Z"
    }
   },
   "outputs": [
    {
     "data": {
      "text/plain": "Net(\n  (conv1): Conv2d(1, 6, kernel_size=(3, 3), stride=(1, 1))\n  (conv2): Conv2d(6, 16, kernel_size=(3, 3), stride=(1, 1))\n  (fc1): Linear(in_features=576, out_features=120, bias=True)\n  (fc2): Linear(in_features=120, out_features=84, bias=True)\n  (fc3): Linear(in_features=84, out_features=10, bias=True)\n)"
     },
     "execution_count": 29,
     "metadata": {},
     "output_type": "execute_result"
    }
   ],
   "source": [
    "net = Net()\n",
    "net.to(\"cuda\")"
   ]
  },
  {
   "cell_type": "code",
   "execution_count": 30,
   "id": "b1afb86513e94d0",
   "metadata": {
    "collapsed": false,
    "ExecuteTime": {
     "end_time": "2023-10-12T05:39:58.929235800Z",
     "start_time": "2023-10-12T05:39:58.854182100Z"
    }
   },
   "outputs": [
    {
     "name": "stdout",
     "output_type": "stream",
     "text": [
      "conv1.weight                   torch.Size([6, 1, 3, 3])       54                  \n",
      "conv1.bias                     torch.Size([6])                6                   \n",
      "conv2.weight                   torch.Size([16, 6, 3, 3])      864                 \n",
      "conv2.bias                     torch.Size([16])               16                  \n",
      "fc1.weight                     torch.Size([120, 576])         69120               \n",
      "fc1.bias                       torch.Size([120])              120                 \n",
      "fc2.weight                     torch.Size([84, 120])          10080               \n",
      "fc2.bias                       torch.Size([84])               84                  \n",
      "fc3.weight                     torch.Size([10, 84])           840                 \n",
      "fc3.bias                       torch.Size([10])               10                  \n",
      "总参数量： 81194\n"
     ]
    }
   ],
   "source": [
    "for name, param in net.named_parameters():\n",
    "    print('{: <30} {: <30} {: <20}'.format(name, str(param.shape), str(param.numel())))\n",
    "print(\"总参数量： {}\".format(sum(x.numel() for x in net.parameters())))"
   ]
  },
  {
   "cell_type": "markdown",
   "id": "950f008645ce6ae7",
   "metadata": {
    "collapsed": false
   },
   "source": [
    "### 输入、输出"
   ]
  },
  {
   "cell_type": "code",
   "execution_count": 31,
   "id": "ba6f421d38492a6b",
   "metadata": {
    "collapsed": false,
    "ExecuteTime": {
     "end_time": "2023-10-12T05:39:58.929235800Z",
     "start_time": "2023-10-12T05:39:58.869085800Z"
    }
   },
   "outputs": [
    {
     "name": "stdout",
     "output_type": "stream",
     "text": [
      "input torch.Size([1, 1, 32, 32]) torch.cuda.FloatTensor\n",
      "tensor([[-0.0502, -0.0794, -0.0402,  0.1265,  0.0228,  0.0666,  0.1406, -0.0242,\n",
      "         -0.0166,  0.0266]], device='cuda:0', grad_fn=<AddmmBackward0>)\n"
     ]
    }
   ],
   "source": [
    "input = torch.randn(1, 1, 32, 32).to(\"cuda\")\n",
    "print('input', input.size(), input.type())\n",
    "out = net(input)\n",
    "print(out)\n"
   ]
  },
  {
   "cell_type": "markdown",
   "id": "29188644670e9bb8",
   "metadata": {
    "collapsed": false
   },
   "source": [
    "### 损失"
   ]
  },
  {
   "cell_type": "code",
   "execution_count": 32,
   "id": "d75883ea368d8225",
   "metadata": {
    "collapsed": false,
    "ExecuteTime": {
     "end_time": "2023-10-12T05:39:58.931229900Z",
     "start_time": "2023-10-12T05:39:58.885043100Z"
    }
   },
   "outputs": [
    {
     "name": "stdout",
     "output_type": "stream",
     "text": [
      "torch.Size([10])\n",
      "torch.Size([1, 10])\n",
      "tensor(0.5399, device='cuda:0', grad_fn=<MseLossBackward0>)\n"
     ]
    }
   ],
   "source": [
    "target = torch.randn(10).cuda()\n",
    "print(target.shape)\n",
    "target = target.view(1,-1)\n",
    "print(target.size())\n",
    "criterion = nn.MSELoss()\n",
    "loss = criterion(out, target)\n",
    "print(loss)"
   ]
  },
  {
   "cell_type": "markdown",
   "id": "9927b619cc411f03",
   "metadata": {
    "collapsed": false
   },
   "source": [
    "### Input -> Conv1 -> ReLu -> MaxPool -> Conv2 -> ReLu -> MaxPool\n",
    "###      -> view -> FC_linear -> Relu -> FC_linear -> ReLu -> FC_linear\n",
    "###      -> MSELoss\n",
    "###      ->loss"
   ]
  },
  {
   "cell_type": "code",
   "execution_count": 33,
   "id": "ec75cbcc5ab3b8e5",
   "metadata": {
    "collapsed": false,
    "ExecuteTime": {
     "end_time": "2023-10-12T05:39:58.941203200Z",
     "start_time": "2023-10-12T05:39:58.899005800Z"
    }
   },
   "outputs": [
    {
     "name": "stdout",
     "output_type": "stream",
     "text": [
      "None\n",
      "tensor([ 0.0040, -0.0210, -0.0117,  0.0134, -0.0207, -0.0148], device='cuda:0')\n"
     ]
    }
   ],
   "source": [
    "net.zero_grad()  #梯度清零，否则不同批次数据之间的梯度会累加\n",
    "print(net.conv1.bias.grad)\n",
    "\n",
    "loss.backward()\n",
    "\n",
    "print(net.conv1.bias.grad)"
   ]
  },
  {
   "cell_type": "code",
   "execution_count": 34,
   "id": "918f507ae21a16f5",
   "metadata": {
    "collapsed": false,
    "ExecuteTime": {
     "end_time": "2023-10-12T05:39:59.097062500Z",
     "start_time": "2023-10-12T05:39:58.914432100Z"
    }
   },
   "outputs": [],
   "source": [
    "### 反向传播 loss.backward()"
   ]
  },
  {
   "cell_type": "code",
   "execution_count": 35,
   "id": "4d679fa1e1480ccb",
   "metadata": {
    "collapsed": false,
    "ExecuteTime": {
     "end_time": "2023-10-12T05:39:59.123506900Z",
     "start_time": "2023-10-12T05:39:58.930232700Z"
    }
   },
   "outputs": [
    {
     "name": "stdout",
     "output_type": "stream",
     "text": [
      "<MseLossBackward0 object at 0x0000015343FE4880>\n",
      "<AddmmBackward0 object at 0x0000015343FE4130>\n",
      "<AccumulateGrad object at 0x0000015343FE4880>\n"
     ]
    }
   ],
   "source": [
    "# 跟踪loss反向传播\n",
    "print(loss.grad_fn)  #MSELoss\n",
    "print(loss.grad_fn.next_functions[0][0])  #linear\n",
    "print(loss.grad_fn.next_functions[0][0].next_functions[0][0])   #ReLu"
   ]
  },
  {
   "cell_type": "markdown",
   "id": "fc7697380c441ac6",
   "metadata": {
    "collapsed": false
   },
   "source": [
    "### 优化器 更新网络参数"
   ]
  },
  {
   "cell_type": "code",
   "execution_count": 36,
   "id": "710e10a8e49f934f",
   "metadata": {
    "collapsed": false,
    "ExecuteTime": {
     "end_time": "2023-10-12T05:39:59.125525300Z",
     "start_time": "2023-10-12T05:39:58.947734200Z"
    }
   },
   "outputs": [
    {
     "name": "stdout",
     "output_type": "stream",
     "text": [
      "总结：1.构建网络 2.定义损失函数 3.反向传播 4.更新参数\n",
      "循环训练直到满意loss，结束训练 -> 模型 -> do something\n"
     ]
    }
   ],
   "source": [
    "import torch.optim as optim\n",
    "\n",
    "optimizer = optim.SGD(net.parameters(), lr=0.01)\n",
    "\n",
    "optimizer.zero_grad()\n",
    "\n",
    "output = net(input)\n",
    "loss = criterion(output, target)\n",
    "\n",
    "loss.backward()\n",
    "\n",
    "# 更新参数\n",
    "optimizer.step()\n",
    "\n",
    "print('总结：1.构建网络 2.定义损失函数 3.反向传播 4.更新参数\\n'\n",
    "      '循环训练直到满意loss，结束训练 -> 模型 -> do something')"
   ]
  },
  {
   "cell_type": "markdown",
   "id": "56587211eb09b41a",
   "metadata": {
    "collapsed": false
   },
   "source": [
    "## cifar-10\n",
    "\n",
    "| 类别  | plane | car | bird | cat | deer | dog | frog | horse | ship | truck |\n",
    "| ----- | ----- | --- | ---- | --- | ---- | --- | ---- | ----- | ---- | ----- |\n",
    "| 准确率 | 69%   | 69% | 27%  | 31% | 42%  | 64% | 59%  | 65%   | 59%  | 62%   |"
   ]
  },
  {
   "cell_type": "markdown",
   "id": "8b142cc558091b90",
   "metadata": {
    "collapsed": false
   },
   "source": [
    "https://cjwen-imageclassification-resnet18-cifar10.streamlit.app/\n",
    "\n",
    "![1697088964579GIF2023-10-12 13-34-26.gif](https://github.com/Chenjiangwen/ImageHostingService/blob/main/pic/1697088964579GIF 2023-10-12 13-34-26.gif)"
    "\n"
    "![1697088964579GIF 2023-10-12 13-34-26.gif](https://fastly.jsdelivr.net/gh/Chenjiangwen/ImageHostingService@main/pic/1697088964579GIF 2023-10-12 13-34-26.gif)"
   ]
  }
 ],
 "metadata": {
  "kernelspec": {
   "display_name": "Python 3 (ipykernel)",
   "language": "python",
   "name": "python3"
  },
  "language_info": {
   "codemirror_mode": {
    "name": "ipython",
    "version": 3
   },
   "file_extension": ".py",
   "mimetype": "text/x-python",
   "name": "python",
   "nbconvert_exporter": "python",
   "pygments_lexer": "ipython3",
   "version": "3.8.17"
  }
 },
 "nbformat": 4,
 "nbformat_minor": 5
}
