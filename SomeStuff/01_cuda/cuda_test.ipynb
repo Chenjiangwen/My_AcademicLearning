{
 "cells": [
  {
   "cell_type": "code",
   "execution_count": 37,
   "id": "b547e98f681b52d7",
   "metadata": {
    "ExecuteTime": {
     "end_time": "2023-10-12T05:48:04.660640100Z",
     "start_time": "2023-10-12T05:48:04.580763800Z"
    }
   },
   "outputs": [],
   "source": [
    "import torch"
   ]
  },
  {
   "cell_type": "markdown",
   "id": "3f94c6558212ba1a",
   "metadata": {
    "collapsed": false
   },
   "source": [
    "### create tensor data"
   ]
  },
  {
   "cell_type": "code",
   "execution_count": 38,
   "id": "144f715b5a7c1e71",
   "metadata": {
    "collapsed": false,
    "ExecuteTime": {
     "end_time": "2023-10-12T05:48:04.752883100Z",
     "start_time": "2023-10-12T05:48:04.589919400Z"
    }
   },
   "outputs": [],
   "source": [
    "x = torch.randn(5, 3)\n",
    "y = torch.ones_like(x)\n",
    "# tensor = torch.ones(5, 3)"
   ]
  },
  {
   "cell_type": "code",
   "execution_count": 39,
   "id": "71d77247fdffc181",
   "metadata": {
    "collapsed": false,
    "ExecuteTime": {
     "end_time": "2023-10-12T05:48:04.769814500Z",
     "start_time": "2023-10-12T05:48:04.601886500Z"
    }
   },
   "outputs": [
    {
     "data": {
      "text/plain": "(tensor([[ 0.6800, -0.4084, -0.2253],\n         [-0.7846, -2.0101,  0.6967],\n         [-2.3856, -0.7948,  0.0552],\n         [-0.4244, -0.7533, -0.3601],\n         [ 1.5332, -1.2102, -0.0173]]),\n tensor([[1., 1., 1.],\n         [1., 1., 1.],\n         [1., 1., 1.],\n         [1., 1., 1.],\n         [1., 1., 1.]]))"
     },
     "execution_count": 39,
     "metadata": {},
     "output_type": "execute_result"
    }
   ],
   "source": [
    "x,y"
   ]
  },
  {
   "cell_type": "code",
   "execution_count": 40,
   "id": "74b1182bad5bd990",
   "metadata": {
    "collapsed": false,
    "ExecuteTime": {
     "end_time": "2023-10-12T05:48:04.781840700Z",
     "start_time": "2023-10-12T05:48:04.615853Z"
    }
   },
   "outputs": [
    {
     "data": {
      "text/plain": "tensor([[ 1.6800,  0.5916,  0.7747],\n        [ 0.2154, -1.0101,  1.6967],\n        [-1.3856,  0.2052,  1.0552],\n        [ 0.5756,  0.2467,  0.6399],\n        [ 2.5332, -0.2102,  0.9827]])"
     },
     "execution_count": 40,
     "metadata": {},
     "output_type": "execute_result"
    }
   ],
   "source": [
    "z1 = x + y\n",
    "z1"
   ]
  },
  {
   "cell_type": "markdown",
   "id": "80b1f1aafd824b03",
   "metadata": {
    "collapsed": false
   },
   "source": [
    "### Moving to GPU"
   ]
  },
  {
   "cell_type": "code",
   "execution_count": 41,
   "id": "4677da0d56fd3de1",
   "metadata": {
    "collapsed": false,
    "ExecuteTime": {
     "end_time": "2023-10-12T05:48:04.781840700Z",
     "start_time": "2023-10-12T05:48:04.633851600Z"
    }
   },
   "outputs": [
    {
     "data": {
      "text/plain": "(tensor([[ 0.6800, -0.4084, -0.2253],\n         [-0.7846, -2.0101,  0.6967],\n         [-2.3856, -0.7948,  0.0552],\n         [-0.4244, -0.7533, -0.3601],\n         [ 1.5332, -1.2102, -0.0173]], device='cuda:0'),\n tensor([[1., 1., 1.],\n         [1., 1., 1.],\n         [1., 1., 1.],\n         [1., 1., 1.],\n         [1., 1., 1.]], device='cuda:0'),\n tensor([[ 1.6800,  0.5916,  0.7747],\n         [ 0.2154, -1.0101,  1.6967],\n         [-1.3856,  0.2052,  1.0552],\n         [ 0.5756,  0.2467,  0.6399],\n         [ 2.5332, -0.2102,  0.9827]], device='cuda:0'))"
     },
     "execution_count": 41,
     "metadata": {},
     "output_type": "execute_result"
    }
   ],
   "source": [
    "x = x.cuda()\n",
    "y = y.cuda()\n",
    "z2 = x + y\n",
    "x,y,z2"
   ]
  },
  {
   "cell_type": "code",
   "execution_count": 42,
   "id": "dddbd879ced05816",
   "metadata": {
    "collapsed": false,
    "ExecuteTime": {
     "end_time": "2023-10-12T05:48:04.795058700Z",
     "start_time": "2023-10-12T05:48:04.646731400Z"
    }
   },
   "outputs": [],
   "source": [
    "### 数据必须在同一设备才能操作"
   ]
  },
  {
   "cell_type": "code",
   "execution_count": 43,
   "id": "2f74631cb59e646",
   "metadata": {
    "collapsed": false,
    "ExecuteTime": {
     "end_time": "2023-10-12T05:48:04.796082100Z",
     "start_time": "2023-10-12T05:48:04.662635400Z"
    }
   },
   "outputs": [
    {
     "name": "stdout",
     "output_type": "stream",
     "text": [
      "Expected all tensors to be on the same device, but found at least two devices, cuda:0 and cpu!\n"
     ]
    }
   ],
   "source": [
    "try: z1 + z2\n",
    "except Exception as e: print(e)"
   ]
  },
  {
   "cell_type": "markdown",
   "id": "f3a23fb7f22dc302",
   "metadata": {
    "collapsed": false
   },
   "source": []
  },
  {
   "cell_type": "code",
   "execution_count": 44,
   "id": "4f0ae951fb12a976",
   "metadata": {
    "collapsed": false,
    "ExecuteTime": {
     "end_time": "2023-10-12T05:48:04.797069Z",
     "start_time": "2023-10-12T05:48:04.677526800Z"
    }
   },
   "outputs": [
    {
     "name": "stdout",
     "output_type": "stream",
     "text": [
      "tensor([[ 3.3599,  1.1833,  1.5495],\n",
      "        [ 0.4309, -2.0202,  3.3934],\n",
      "        [-2.7712,  0.4105,  2.1104],\n",
      "        [ 1.1513,  0.4935,  1.2799],\n",
      "        [ 5.0663, -0.4204,  1.9655]])\n"
     ]
    }
   ],
   "source": [
    "z2 = z2.to(\"cpu\")\n",
    "print(z1 + z2)"
   ]
  },
  {
   "cell_type": "markdown",
   "id": "703b5dd5ecc3ec52",
   "metadata": {
    "collapsed": false
   },
   "source": [
    "### Neural network"
   ]
  },
  {
   "cell_type": "code",
   "execution_count": 45,
   "id": "42d257763a14ff0f",
   "metadata": {
    "collapsed": false,
    "ExecuteTime": {
     "end_time": "2023-10-12T05:48:04.797069Z",
     "start_time": "2023-10-12T05:48:04.692574400Z"
    }
   },
   "outputs": [],
   "source": [
    "import torch.nn as nn\n",
    "import torch.nn.functional as F\n",
    "\n",
    "# 定义一个简单的神经网络类\n",
    "class Net(nn.Module):\n",
    "    def __init__(self):\n",
    "        super(Net, self).__init__()\n",
    "        # super(Net, self).__init__()\n",
    "        # 定义每一层卷积神经网络，输入通道维度=1，输出通道维度=6，卷积核大小3*3\n",
    "        self.conv1 = nn.Conv2d(1, 6, 3)\n",
    "        # 定义第二层卷积神经网络，输入通道维度=6，输出通道维度=16，卷积核大小3*3\n",
    "        self.conv2 = nn.Conv2d(6, 16, 3)   #6×6×16\n",
    "        # 定义三层全连接网络\n",
    "        self.fc1 = nn.Linear(16 * 6 * 6, 120)\n",
    "        self.fc2 = nn.Linear(120, 84)\n",
    "        self.fc3 = nn.Linear(84, 10)\n",
    "\n",
    "    def forward(self, x):\n",
    "        # 在(2,2)的池化窗口下执行最大池化操作\n",
    "        x = F.max_pool2d(F.relu(self.conv1(x)), (2, 2))\n",
    "        x = F.max_pool2d(F.relu(self.conv2(x)), 2)\n",
    "        x = x.view(-1, self.num_flat_features(x)) #\n",
    "        x = F.relu(self.fc1(x))\n",
    "        x = F.relu(self.fc2(x))\n",
    "        x = self.fc3(x)\n",
    "        return x\n",
    "\n",
    "    def num_flat_features(self, x):\n",
    "        # 计算size,除了第0个 维度上的batch_size\n",
    "        size = x.size()[1:]\n",
    "        num_features = 1\n",
    "        for s in size:\n",
    "            num_features *= s\n",
    "        return num_features"
   ]
  },
  {
   "cell_type": "markdown",
   "id": "ec39c9e33db74e22",
   "metadata": {
    "collapsed": false
   },
   "source": [
    "1. 第一层卷积：\n",
    "   - 输入大小：32×32\n",
    "   - 卷积核大小：3×3\n",
    "   - 输出通道维度：6\n",
    "   - 使用零填充（padding=0），步幅（stride=1）\n",
    "   - 计算公式：$output\\_size = \\frac{{input\\_size - kernel\\_size + 2 \\times padding}}{{stride}} + 1 = \\frac{{32 - 3 + 2 \\times 0}}{{1}} + 1 = 30$\n",
    "   - 输出大小：30×30\n",
    "\n",
    "2. 第一次最大池化：\n",
    "   - 输入大小：30×30\n",
    "   - 池化窗口大小：2×2\n",
    "   - 使用步幅（stride=2）\n",
    "   - 计算公式：$output\\_size = \\frac{{input\\_size}}{{stride}} = \\frac{{30}}{{2}} = 15$\n",
    "   - 输出大小：15×15\n",
    "\n",
    "3. 第二层卷积：\n",
    "   - 输入大小：15×15\n",
    "   - 卷积核大小：3×3\n",
    "   - 输出通道维度：16\n",
    "   - 使用零填充（padding=0），步幅（stride=1）\n",
    "   - 计算公式：$output\\_size = \\frac{{input\\_size - kernel\\_size + 2 \\times padding}}{{stride}} + 1 = \\frac{{15 - 3 + 2 \\times 0}}{{1}} + 1 = 13$\n",
    "   - 输出大小：13×13\n",
    "\n",
    "4. 第二次最大池化：\n",
    "   - 输入大小：13×13\n",
    "   - 池化窗口大小：2×2\n",
    "   - 使用步幅（stride=2）\n",
    "   - 计算公式：$output\\_size = \\frac{{input\\_size}}{{stride}} = \\frac{{13}}{{2}} = 6.5$（结果向下取整）\n",
    "   - 输出大小：6×6\n",
    "\n",
    "最后，在卷积和池化的过程中，图像的大小从32×32逐步减小到6×6。在这之后，将数据展平，并通过全连接层进行处理。"
   ]
  },
  {
   "cell_type": "markdown",
   "id": "5abf89fa3891189c",
   "metadata": {
    "collapsed": false
   },
   "source": [
    "![16970320504401697032050389.png](https://fastly.jsdelivr.net/gh/Chenjiangwen/ImageHostingService@main/pic/16970320504401697032050389.png)"
   ]
  },
  {
   "cell_type": "code",
   "execution_count": 46,
   "id": "5291ef14400ecebe",
   "metadata": {
    "collapsed": false,
    "ExecuteTime": {
     "end_time": "2023-10-12T05:48:04.797069Z",
     "start_time": "2023-10-12T05:48:04.708917400Z"
    }
   },
   "outputs": [],
   "source": [
    "# import matplotlib.pyplot as plt\n",
    "# \n",
    "# img = plt.imread('img.png')\n",
    "# \n",
    "# fig = plt.figure(figsize=(20, 15))\n",
    "# plt.imshow(img)\n",
    "# plt.axis('on')\n",
    "# plt.show()\n"
   ]
  },
  {
   "cell_type": "code",
   "execution_count": 47,
   "id": "5638b85bd2c10485",
   "metadata": {
    "collapsed": false,
    "ExecuteTime": {
     "end_time": "2023-10-12T05:48:04.798052600Z",
     "start_time": "2023-10-12T05:48:04.723914400Z"
    }
   },
   "outputs": [
    {
     "data": {
      "text/plain": "Net(\n  (conv1): Conv2d(1, 6, kernel_size=(3, 3), stride=(1, 1))\n  (conv2): Conv2d(6, 16, kernel_size=(3, 3), stride=(1, 1))\n  (fc1): Linear(in_features=576, out_features=120, bias=True)\n  (fc2): Linear(in_features=120, out_features=84, bias=True)\n  (fc3): Linear(in_features=84, out_features=10, bias=True)\n)"
     },
     "execution_count": 47,
     "metadata": {},
     "output_type": "execute_result"
    }
   ],
   "source": [
    "net = Net()\n",
    "net.to(\"cuda\")"
   ]
  },
  {
   "cell_type": "code",
   "execution_count": 48,
   "id": "b1afb86513e94d0",
   "metadata": {
    "collapsed": false,
    "ExecuteTime": {
     "end_time": "2023-10-12T05:48:04.799050500Z",
     "start_time": "2023-10-12T05:48:04.739895Z"
    }
   },
   "outputs": [
    {
     "name": "stdout",
     "output_type": "stream",
     "text": [
      "conv1.weight                   torch.Size([6, 1, 3, 3])       54                  \n",
      "conv1.bias                     torch.Size([6])                6                   \n",
      "conv2.weight                   torch.Size([16, 6, 3, 3])      864                 \n",
      "conv2.bias                     torch.Size([16])               16                  \n",
      "fc1.weight                     torch.Size([120, 576])         69120               \n",
      "fc1.bias                       torch.Size([120])              120                 \n",
      "fc2.weight                     torch.Size([84, 120])          10080               \n",
      "fc2.bias                       torch.Size([84])               84                  \n",
      "fc3.weight                     torch.Size([10, 84])           840                 \n",
      "fc3.bias                       torch.Size([10])               10                  \n",
      "总参数量： 81194\n"
     ]
    }
   ],
   "source": [
    "for name, param in net.named_parameters():\n",
    "    print('{: <30} {: <30} {: <20}'.format(name, str(param.shape), str(param.numel())))\n",
    "print(\"总参数量： {}\".format(sum(x.numel() for x in net.parameters())))"
   ]
  },
  {
   "cell_type": "markdown",
   "id": "950f008645ce6ae7",
   "metadata": {
    "collapsed": false
   },
   "source": [
    "### 输入、输出"
   ]
  },
  {
   "cell_type": "code",
   "execution_count": 49,
   "id": "ba6f421d38492a6b",
   "metadata": {
    "collapsed": false,
    "ExecuteTime": {
     "end_time": "2023-10-12T05:48:04.800047200Z",
     "start_time": "2023-10-12T05:48:04.756830100Z"
    }
   },
   "outputs": [
    {
     "name": "stdout",
     "output_type": "stream",
     "text": [
      "input torch.Size([1, 1, 32, 32]) torch.cuda.FloatTensor\n",
      "tensor([[-0.0338,  0.1494, -0.0319, -0.0819, -0.1217, -0.0548, -0.0139, -0.0012,\n",
      "          0.1079, -0.1118]], device='cuda:0', grad_fn=<AddmmBackward0>)\n"
     ]
    }
   ],
   "source": [
    "input = torch.randn(1, 1, 32, 32).to(\"cuda\")\n",
    "print('input', input.size(), input.type())\n",
    "out = net(input)\n",
    "print(out)\n"
   ]
  },
  {
   "cell_type": "markdown",
   "id": "29188644670e9bb8",
   "metadata": {
    "collapsed": false
   },
   "source": [
    "### 损失"
   ]
  },
  {
   "cell_type": "code",
   "execution_count": 50,
   "id": "d75883ea368d8225",
   "metadata": {
    "collapsed": false,
    "ExecuteTime": {
     "end_time": "2023-10-12T05:48:04.935961500Z",
     "start_time": "2023-10-12T05:48:04.770811300Z"
    }
   },
   "outputs": [
    {
     "name": "stdout",
     "output_type": "stream",
     "text": [
      "torch.Size([10])\n",
      "torch.Size([1, 10])\n",
      "tensor(0.5652, device='cuda:0', grad_fn=<MseLossBackward0>)\n"
     ]
    }
   ],
   "source": [
    "target = torch.randn(10).cuda()\n",
    "print(target.shape)\n",
    "target = target.view(1,-1)\n",
    "print(target.size())\n",
    "criterion = nn.MSELoss()\n",
    "loss = criterion(out, target)\n",
    "print(loss)"
   ]
  },
  {
   "cell_type": "markdown",
   "id": "9927b619cc411f03",
   "metadata": {
    "collapsed": false
   },
   "source": [
    "### Input -> Conv1 -> ReLu -> MaxPool -> Conv2 -> ReLu -> MaxPool\n",
    "###      -> view -> FC_linear -> Relu -> FC_linear -> ReLu -> FC_linear\n",
    "###      -> MSELoss\n",
    "###      ->loss"
   ]
  },
  {
   "cell_type": "code",
   "execution_count": 51,
   "id": "ec75cbcc5ab3b8e5",
   "metadata": {
    "collapsed": false,
    "ExecuteTime": {
     "end_time": "2023-10-12T05:48:04.959861600Z",
     "start_time": "2023-10-12T05:48:04.786060Z"
    }
   },
   "outputs": [
    {
     "name": "stdout",
     "output_type": "stream",
     "text": [
      "None\n",
      "tensor([-0.0113, -0.0014,  0.0062, -0.0091,  0.0004,  0.0037], device='cuda:0')\n"
     ]
    }
   ],
   "source": [
    "net.zero_grad()  #梯度清零，否则不同批次数据之间的梯度会累加\n",
    "print(net.conv1.bias.grad)\n",
    "\n",
    "loss.backward()\n",
    "\n",
    "print(net.conv1.bias.grad)"
   ]
  },
  {
   "cell_type": "code",
   "execution_count": 52,
   "id": "918f507ae21a16f5",
   "metadata": {
    "collapsed": false,
    "ExecuteTime": {
     "end_time": "2023-10-12T05:48:04.960859300Z",
     "start_time": "2023-10-12T05:48:04.800047200Z"
    }
   },
   "outputs": [],
   "source": [
    "### 反向传播 loss.backward()"
   ]
  },
  {
   "cell_type": "code",
   "execution_count": 53,
   "id": "4d679fa1e1480ccb",
   "metadata": {
    "collapsed": false,
    "ExecuteTime": {
     "end_time": "2023-10-12T05:48:04.961857Z",
     "start_time": "2023-10-12T05:48:04.816783800Z"
    }
   },
   "outputs": [
    {
     "name": "stdout",
     "output_type": "stream",
     "text": [
      "<MseLossBackward0 object at 0x0000015343FE4340>\n",
      "<AddmmBackward0 object at 0x0000015343FE4940>\n",
      "<AccumulateGrad object at 0x0000015343FE4340>\n"
     ]
    }
   ],
   "source": [
    "# 跟踪loss反向传播\n",
    "print(loss.grad_fn)  #MSELoss\n",
    "print(loss.grad_fn.next_functions[0][0])  #linear\n",
    "print(loss.grad_fn.next_functions[0][0].next_functions[0][0])   #ReLu"
   ]
  },
  {
   "cell_type": "markdown",
   "id": "fc7697380c441ac6",
   "metadata": {
    "collapsed": false
   },
   "source": [
    "### 优化器 更新网络参数"
   ]
  },
  {
   "cell_type": "code",
   "execution_count": 54,
   "id": "710e10a8e49f934f",
   "metadata": {
    "collapsed": false,
    "ExecuteTime": {
     "end_time": "2023-10-12T05:48:04.962853800Z",
     "start_time": "2023-10-12T05:48:04.831782Z"
    }
   },
   "outputs": [
    {
     "name": "stdout",
     "output_type": "stream",
     "text": [
      "总结：1.构建网络 2.定义损失函数 3.反向传播 4.更新参数\n",
      "循环训练直到满意loss，结束训练 -> 模型 -> do something\n"
     ]
    }
   ],
   "source": [
    "import torch.optim as optim\n",
    "\n",
    "optimizer = optim.SGD(net.parameters(), lr=0.01)\n",
    "\n",
    "optimizer.zero_grad()\n",
    "\n",
    "output = net(input)\n",
    "loss = criterion(output, target)\n",
    "\n",
    "loss.backward()\n",
    "\n",
    "# 更新参数\n",
    "optimizer.step()\n",
    "\n",
    "print('总结：1.构建网络 2.定义损失函数 3.反向传播 4.更新参数\\n'\n",
    "      '循环训练直到满意loss，结束训练 -> 模型 -> do something')"
   ]
  },
  {
   "cell_type": "markdown",
   "id": "56587211eb09b41a",
   "metadata": {
    "collapsed": false
   },
   "source": [
    "## cifar-10\n",
    "\n",
    "| 类别  | plane | car | bird | cat | deer | dog | frog | horse | ship | truck |\n",
    "| ----- | ----- | --- | ---- | --- | ---- | --- | ---- | ----- | ---- | ----- |\n",
    "| 准确率 | 69%   | 69% | 27%  | 31% | 42%  | 64% | 59%  | 65%   | 59%  | 62%   |"
   ]
  },
  {
   "cell_type": "markdown",
   "id": "8b142cc558091b90",
   "metadata": {
    "collapsed": false
   },
   "source": [
    "https://cjwen-imageclassification-resnet18-cifar10.streamlit.app/\n",
    "\n",
    "![1697088964579GIF 2023-10-12 13-34-26.gif](https://github.com/Chenjiangwen/ImageHostingService/blob/main/pic/1697088964579GIF 2023-10-12 13-34-26.gif)\n",
    "\n",
    "![1697088964579GIF 2023-10-12 13-34-26.gif](https://fastly.jsdelivr.net/gh/Chenjiangwen/ImageHostingService@main/pic/1697088964579GIF 2023-10-12 13-34-26.gif)\n",
    "\n",
    "![1697089504021GIF2023-10-12-13-34-26.gif](https://fastly.jsdelivr.net/gh/Chenjiangwen/ImageHostingService@main/pic/1697089504021GIF2023-10-12-13-34-26.gif)"
   ]
  }
 ],
 "metadata": {
  "kernelspec": {
   "display_name": "Python 3 (ipykernel)",
   "language": "python",
   "name": "python3"
  },
  "language_info": {
   "codemirror_mode": {
    "name": "ipython",
    "version": 3
   },
   "file_extension": ".py",
   "mimetype": "text/x-python",
   "name": "python",
   "nbconvert_exporter": "python",
   "pygments_lexer": "ipython3",
   "version": "3.8.17"
  }
 },
 "nbformat": 4,
 "nbformat_minor": 5
}
